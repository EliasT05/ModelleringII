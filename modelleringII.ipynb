{
 "cells": [
  {
   "attachments": {},
   "cell_type": "markdown",
   "metadata": {},
   "source": [
    "# Avsluttende programmerings prosjekt ProgMod\n",
    "## Problemstillingen\n",
    "* Hvordan kan vi bruke programmering til å modellere og simulere kunstig intelligens? \n",
    "* Hvilke faktorer påvirker læring, beslutningstaking og etikk? \n",
    "* Hvilke begrensninger har modellene dine, og drøft hva de forteller oss om kunstig intelligens"
   ]
  },
  {
   "attachments": {},
   "cell_type": "markdown",
   "metadata": {},
   "source": [
    "## Introduksjon til kunstig inteligens\n",
    "Oxford ordboken definerer kunstig intelligens som “utviklingen av datasystemer i stand til å utføre oppgaver som normalt krever menneskelig intelligens, for eksempel visuell persepsjon, talegjenkjenning, beslutningstaking og oversettelse mellom språk”. Men flere av disse vanlige algoritmene og programmene klarer også å utføre disse oppgavene. Så hva er det som skiller kunstig intelligens fra vanlige datasystemer? Den store forskjellen mellom kunstig intelligens og vanlige programmer er at i vanlig programmering må vi finne mønstrene selv og programmere et system som bruker mønsteret. Med kunstig intelligens skjer utviklingen på en grunnleggende annen måte. Istedenfor å fortelle programmet nøyaktig hva det skal gjøre, gir vi det et datasett, og programmet finner mønstre selv. Ofte kan dette være mer effektivt enn den “gamle måten”, men det kan også ha ulemper, for eksempel ved å finne mønstre som ikke er relevante. Det kan også være partisk hvis datasettet ikke er representativt, og mønstrene AIen finner er derfor ikke representative. Et eksempel på dette er Amazons AI som hjalp dem med ansettelse. Den var partisk fordi den var basert på tidligere CV-er de hadde mottatt som da var mannsdominerte. Programmet anbefalte derfor menn oftere enn kvinner.<sup>[1]</sup> Kunstig intelligens er ikke en perfekt løsning på alt, og man må være klar over hvordan man bruker det på en ansvarlig måte. Men det betyr ikke at det ikke kan være nyttig hvis man forstår begrensningene og bygger rundt dem.\n",
    "\n"
   ]
  },
  {
   "attachments": {},
   "cell_type": "markdown",
   "metadata": {},
   "source": [
    "## Bruk av kunstig inteligens\n",
    "Det er enkelt å komme i gang med å bruke KI i dag. Et eksempel er Tensoflow. TensorFlow er et populært rammeverk for maskinlæring og dyp læring som kan brukes til å bygge og trene modeller for ulike formål. For eksempel kan du bruke TensorFlow til å bygge en modell som kan klassifisere bilder av hunder og katter. TensorFlow har også mange ressurser og dokumentasjon tilgjengelig på nettet som kan hjelpe deg med å komme i gang. Under kan du se et eksempel som bruker Tensoflow på et enkelt datasett."
   ]
  },
  {
   "cell_type": "code",
   "execution_count": 21,
   "metadata": {},
   "outputs": [],
   "source": [
    "# Import/define\n",
    "\n",
    "import numpy as np\n",
    "import tensorflow as tf\n",
    "import seaborn as sns\n",
    "import pandas as pd\n",
    "import matplotlib.pyplot as plt\n",
    "\n",
    "from sklearn.model_selection import train_test_split\n",
    "from sklearn.metrics import precision_score, recall_score, f1_score, accuracy_score\n",
    "from sklearn import neighbors, tree, ensemble, linear_model, svm\n",
    "from sklearn.ensemble import RandomForestClassifier\n",
    "from sklearn.linear_model import LogisticRegression\n",
    "from sklearn.neighbors import KNeighborsClassifier\n",
    "from sklearn.svm import SVC\n",
    "from tensorflow.keras import layers\n",
    "\n",
    "\n",
    "def map_string_to_number(s):\n",
    "    # Define your custom mapping from strings to numbers here\n",
    "    if s == 'Adelie' or s == 'MALE' or s == 'tree':\n",
    "        return float(0)\n",
    "    elif s == 'Chinstrap' or s == 'FEMALE' or s == 'RandomForestClassifier':\n",
    "        return float(1)\n",
    "    elif s == 'Gentoo' or s == 'LogisticRegression':\n",
    "        return float(2)\n",
    "    elif s == 'KNeighborsClassifier':\n",
    "        return float(3)\n",
    "    elif s == 'SVC':\n",
    "        return float(4)\n",
    "    elif s == 'NN':\n",
    "        return float(5)\n",
    "    elif type(s) == 'float':\n",
    "        return s\n",
    "    else:\n",
    "        return 100"
   ]
  },
  {
   "cell_type": "code",
   "execution_count": 22,
   "metadata": {},
   "outputs": [
    {
     "name": "stdout",
     "output_type": "stream",
     "text": [
      "Accuracy: 0.9\n"
     ]
    }
   ],
   "source": [
    "from sklearn import datasets\n",
    "from sklearn.model_selection import train_test_split\n",
    "from sklearn.tree import DecisionTreeClassifier\n",
    "\n",
    "# Load the iris dataset\n",
    "iris = datasets.load_iris()\n",
    "X = iris.data\n",
    "y = iris.target\n",
    "\n",
    "\n",
    "\n",
    "#print(iris)\n",
    "# Split the data into training and test sets\n",
    "X_train, X_test, y_train, y_test = train_test_split(X, y, test_size=0.2)\n",
    "\n",
    "# Create a decision tree classifier\n",
    "clf = DecisionTreeClassifier()\n",
    "\n",
    "# Train the classifier on the training data\n",
    "clf.fit(X_train, y_train)\n",
    "\n",
    "# Make predictions on the test data\n",
    "y_pred = clf.predict(X_test)\n",
    "\n",
    "# Calculate the accuracy of the model\n",
    "accuracy = clf.score(X_test, y_test)\n",
    "print(f'Accuracy: {accuracy}')\n"
   ]
  },
  {
   "cell_type": "code",
   "execution_count": 23,
   "metadata": {},
   "outputs": [
    {
     "data": {
      "text/plain": [
       "'\\n# Load the data from the CSV file\\ndata = pd.read_csv(\\'C:\\\\Users\\\\elias\\\\Downloads\\\\vaerdata13-22.csv\\')#, parse_dates=[\\'referenceTime\\'])\\ndata = data.iloc[: , 1:]\\ndata = data.iloc[: , 2:]\\n\\n#data[\\'sum(duration_of_sunshine P1D)\\'] = data[\\'sum(duration_of_sunshine P1D)\\'].replace({\\'nan\\': \\'0\\'}, regex=True)\\ndata.fillna(0, inplace=True)\\nprint(data)\\n# Convert the referenceTime column to a numerical value\\n#data[\\'referenceTime\\'] = data[\\'referenceTime\\'].apply(lambda x: x.timestamp())\\n\\n#data = data.T\\nprint(data)\\n# Create a StandardScaler object\\nscaler = StandardScaler()\\n\\n# Fit the scaler on the data\\nscaler.fit(data)\\n\\n# Transform the data using the fitted scaler\\ndata_normalized = scaler.transform(data)\\n\\n# Convert the normalized data back to a DataFrame\\ndata = pd.DataFrame(data_normalized, columns=data.columns)\\n\\n\\n\\n#------------------------------------\\n\\n\\n# Split the data into features and labels\\n#df_features = df.copy()\\n#df_labels = df_features.pop(\\'referenceTime\\')\\n\\nX = data[[\"referenceTime\"]]\\ny = data[[\\'mean(air_temperature P1D)\\',\"mean(air_temperature P1D)\", \"mean(cloud_area_fraction P1D)\"]]\\n\\n# Split the data into training and testing sets\\nX_train, X_test, y_train, y_test = train_test_split(X, y)\\n\\n# Create a TensorFlow model\\nmodel = tf.keras.Sequential([\\n    tf.keras.layers.Dense(64, activation=\\'relu\\', input_shape=[X.shape[1]]),\\n    tf.keras.layers.Dense(64, activation=\\'relu\\'),\\n    tf.keras.layers.Dense(3)\\n])\\n\\n# Compile the model\\nmodel.compile(loss=\\'mean_squared_error\\', optimizer=\\'adam\\')\\n\\n# Train the model\\nmodel.fit(X_train, y_train, epochs=10)\\n\\n# Evaluate the model on the test set\\nloss = model.evaluate(X_test, y_test)'"
      ]
     },
     "execution_count": 23,
     "metadata": {},
     "output_type": "execute_result"
    }
   ],
   "source": [
    "import tensorflow as tf\n",
    "import pandas as pd\n",
    "from sklearn.model_selection import train_test_split\n",
    "from sklearn.preprocessing import StandardScaler\n",
    "#index,referenceTime,mean(air_temperature P1D),mean(cloud_area_fraction P1D),sum(duration_of_sunshine P1D)\n",
    "\n",
    "'''\n",
    "# Load the data from the CSV file\n",
    "data = pd.read_csv('C:\\\\Users\\\\elias\\\\Downloads\\\\vaerdata13-22.csv')#, parse_dates=['referenceTime'])\n",
    "data = data.iloc[: , 1:]\n",
    "data = data.iloc[: , 2:]\n",
    "\n",
    "#data['sum(duration_of_sunshine P1D)'] = data['sum(duration_of_sunshine P1D)'].replace({'nan': '0'}, regex=True)\n",
    "data.fillna(0, inplace=True)\n",
    "print(data)\n",
    "# Convert the referenceTime column to a numerical value\n",
    "#data['referenceTime'] = data['referenceTime'].apply(lambda x: x.timestamp())\n",
    "\n",
    "#data = data.T\n",
    "print(data)\n",
    "# Create a StandardScaler object\n",
    "scaler = StandardScaler()\n",
    "\n",
    "# Fit the scaler on the data\n",
    "scaler.fit(data)\n",
    "\n",
    "# Transform the data using the fitted scaler\n",
    "data_normalized = scaler.transform(data)\n",
    "\n",
    "# Convert the normalized data back to a DataFrame\n",
    "data = pd.DataFrame(data_normalized, columns=data.columns)\n",
    "\n",
    "\n",
    "\n",
    "#------------------------------------\n",
    "\n",
    "\n",
    "# Split the data into features and labels\n",
    "#df_features = df.copy()\n",
    "#df_labels = df_features.pop('referenceTime')\n",
    "\n",
    "X = data[[\"referenceTime\"]]\n",
    "y = data[['mean(air_temperature P1D)',\"mean(air_temperature P1D)\", \"mean(cloud_area_fraction P1D)\"]]\n",
    "\n",
    "# Split the data into training and testing sets\n",
    "X_train, X_test, y_train, y_test = train_test_split(X, y)\n",
    "\n",
    "# Create a TensorFlow model\n",
    "model = tf.keras.Sequential([\n",
    "    tf.keras.layers.Dense(64, activation='relu', input_shape=[X.shape[1]]),\n",
    "    tf.keras.layers.Dense(64, activation='relu'),\n",
    "    tf.keras.layers.Dense(3)\n",
    "])\n",
    "\n",
    "# Compile the model\n",
    "model.compile(loss='mean_squared_error', optimizer='adam')\n",
    "\n",
    "# Train the model\n",
    "model.fit(X_train, y_train, epochs=10)\n",
    "\n",
    "# Evaluate the model on the test set\n",
    "loss = model.evaluate(X_test, y_test)'''"
   ]
  },
  {
   "cell_type": "code",
   "execution_count": 24,
   "metadata": {},
   "outputs": [],
   "source": [
    "treningsandel = 0.8 # Velger 80 prosent av datasettet til trening"
   ]
  },
  {
   "cell_type": "code",
   "execution_count": 25,
   "metadata": {},
   "outputs": [],
   "source": [
    "titles = {'model':[], 'treningsandel': [], 'accuracy': []}\n",
    "model_eval = pd.DataFrame(titles)"
   ]
  },
  {
   "cell_type": "code",
   "execution_count": 26,
   "metadata": {},
   "outputs": [
    {
     "name": "stdout",
     "output_type": "stream",
     "text": [
      "Precision: 0.92\n",
      "Recall: 0.93\n",
      "F1-score: 0.93\n"
     ]
    }
   ],
   "source": [
    "# Tree\n",
    "\n",
    "pingvindata = pd.read_csv(\"C:\\\\Users\\\\elias\\\\Documents\\\\GitHub_loc\\\\ModelleringII\\\\penguings.txt\", delimiter = \",\")\n",
    "\n",
    "kriterier = pingvindata[['bill_length_mm', 'bill_depth_mm']] # features\n",
    "kategorier = pingvindata['species']                          # labels\n",
    "\n",
    "# Velge ut data til trening og testing\n",
    "for i in range(1, 10):\n",
    "    accuracy_list = []\n",
    "    treningsandel_eval = i/10\n",
    "    for j in range (10):\n",
    "        ml_data = train_test_split(kriterier, kategorier, train_size=treningsandel_eval, random_state=42)\n",
    "\n",
    "        treningskriterier = ml_data[0]\n",
    "        testkriterier = ml_data[1]\n",
    "        treningskategorier = ml_data[2]\n",
    "        testkategorier = ml_data[3]\n",
    "\n",
    "        #print(treningskriterier)\n",
    "\n",
    "        modell = tree.DecisionTreeClassifier()                  # Lager modellen\n",
    "        modell.fit(treningskriterier, treningskategorier)       # Trener modellen\n",
    "\n",
    "        forutsigelser = modell.predict(testkriterier)\n",
    "        #print(\"Accuracy:\", round(accuracy_score(testkategorier, forutsigelser), 2))\n",
    "\n",
    "        # Assume y_test and y_pred are the true and predicted labels for the test set\n",
    "        precision = precision_score(testkategorier, forutsigelser, average='macro')\n",
    "        recall = recall_score(testkategorier, forutsigelser, average='macro')\n",
    "        f1 = f1_score(testkategorier, forutsigelser, average='macro')\n",
    "        accuracy_list.append(precision)\n",
    "    accuracy_avrg = sum(accuracy_list) / len(accuracy_list)\n",
    "    data = pd.DataFrame({'model':['tree'], 'treningsandel': [treningsandel_eval], 'accuracy': [accuracy_avrg]})\n",
    "    model_eval = pd.concat([model_eval, data], ignore_index=True)\n",
    "\n",
    "print(f'Precision: {precision:.2f}')\n",
    "print(f'Recall: {recall:.2f}')  \n",
    "print(f'F1-score: {f1:.2f}')"
   ]
  },
  {
   "cell_type": "code",
   "execution_count": 27,
   "metadata": {},
   "outputs": [
    {
     "name": "stdout",
     "output_type": "stream",
     "text": [
      "Precision: 1.00\n",
      "Recall: 1.00\n",
      "F1-score: 1.00\n"
     ]
    }
   ],
   "source": [
    "# RandomForestClassifier\n",
    "\n",
    "pingvindata = pd.read_csv(\"C:\\\\Users\\\\elias\\\\Documents\\\\GitHub_loc\\\\ModelleringII\\\\penguings.txt\", delimiter = \",\")\n",
    "\n",
    "kriterier = pingvindata[['bill_length_mm', 'bill_depth_mm']] # features\n",
    "kategorier = pingvindata['species']                          # labels\n",
    "\n",
    "# Velge ut data til trening og testing\n",
    "for i in range(1, 10):\n",
    "    accuracy_list = []\n",
    "    treningsandel_eval = i/10\n",
    "    for j in range (10):\n",
    "        ml_data = train_test_split(kriterier, kategorier, train_size=treningsandel_eval, random_state=42)\n",
    "\n",
    "        treningskriterier = ml_data[0]\n",
    "        testkriterier = ml_data[1]\n",
    "        treningskategorier = ml_data[2]\n",
    "        testkategorier = ml_data[3]\n",
    "\n",
    "        #print(treningskriterier)\n",
    "\n",
    "        modell = RandomForestClassifier()                  # Lager modellen\n",
    "        modell.fit(treningskriterier, treningskategorier)       # Trener modellen\n",
    "\n",
    "        forutsigelser = modell.predict(testkriterier)\n",
    "        #print(\"Accuracy:\", round(accuracy_score(testkategorier, forutsigelser), 2))\n",
    "\n",
    "        # Assume y_test and y_pred are the true and predicted labels for the test set\n",
    "        precision = precision_score(testkategorier, forutsigelser, average='macro')\n",
    "        recall = recall_score(testkategorier, forutsigelser, average='macro')\n",
    "        f1 = f1_score(testkategorier, forutsigelser, average='macro')\n",
    "        accuracy_list.append(precision)\n",
    "    accuracy_avrg = sum(accuracy_list) / len(accuracy_list)\n",
    "    data = pd.DataFrame({'model':['RandomForestClassifier'], 'treningsandel': [treningsandel_eval], 'accuracy': [accuracy_avrg]})\n",
    "    model_eval = pd.concat([model_eval, data], ignore_index=True)\n",
    "\n",
    "print(f'Precision: {precision:.2f}')\n",
    "print(f'Recall: {recall:.2f}')  \n",
    "print(f'F1-score: {f1:.2f}')"
   ]
  },
  {
   "cell_type": "code",
   "execution_count": 28,
   "metadata": {},
   "outputs": [
    {
     "name": "stdout",
     "output_type": "stream",
     "text": [
      "Precision: 1.00\n",
      "Recall: 1.00\n",
      "F1-score: 1.00\n"
     ]
    }
   ],
   "source": [
    "# LogisticRegression\n",
    "\n",
    "# Velge ut data til trening og testing\n",
    "for i in range(1, 10):\n",
    "    accuracy_list = []\n",
    "    treningsandel_eval = i/10\n",
    "    for j in range (10):\n",
    "        ml_data = train_test_split(kriterier, kategorier, train_size=treningsandel_eval, random_state=42)\n",
    "\n",
    "        treningskriterier = ml_data[0]\n",
    "        testkriterier = ml_data[1]\n",
    "        treningskategorier = ml_data[2]\n",
    "        testkategorier = ml_data[3]\n",
    "\n",
    "        #print(treningskriterier)\n",
    "\n",
    "        modell = LogisticRegression()                  # Lager modellen\n",
    "        modell.fit(treningskriterier, treningskategorier)       # Trener modellen\n",
    "\n",
    "        forutsigelser = modell.predict(testkriterier)\n",
    "        #print(\"Accuracy:\", round(accuracy_score(testkategorier, forutsigelser), 2))\n",
    "\n",
    "        # Assume y_test and y_pred are the true and predicted labels for the test set\n",
    "        precision = precision_score(testkategorier, forutsigelser, average='macro')\n",
    "        recall = recall_score(testkategorier, forutsigelser, average='macro')\n",
    "        f1 = f1_score(testkategorier, forutsigelser, average='macro')\n",
    "        accuracy_list.append(precision)\n",
    "    accuracy_avrg = sum(accuracy_list) / len(accuracy_list)\n",
    "    data = pd.DataFrame({'model':['LogisticRegression'], 'treningsandel': [treningsandel_eval], 'accuracy': [accuracy_avrg]})\n",
    "    model_eval = pd.concat([model_eval, data], ignore_index=True)\n",
    "\n",
    "print(f'Precision: {precision:.2f}')\n",
    "print(f'Recall: {recall:.2f}')  \n",
    "print(f'F1-score: {f1:.2f}')"
   ]
  },
  {
   "cell_type": "code",
   "execution_count": 29,
   "metadata": {},
   "outputs": [
    {
     "name": "stdout",
     "output_type": "stream",
     "text": [
      "Precision: 1.00\n",
      "Recall: 1.00\n",
      "F1-score: 1.00\n"
     ]
    }
   ],
   "source": [
    "# KNeighborsClassifier\n",
    "\n",
    "\n",
    "pingvindata = pd.read_csv(\"C:\\\\Users\\\\elias\\\\Documents\\\\GitHub_loc\\\\ModelleringII\\\\penguings.txt\", delimiter = \",\")\n",
    "\n",
    "kriterier = pingvindata[['bill_length_mm', 'bill_depth_mm']] # features\n",
    "kategorier = pingvindata['species']                          # labels\n",
    "\n",
    "# Velge ut data til trening og testing\n",
    "for i in range(1, 10):\n",
    "    accuracy_list = []\n",
    "    treningsandel_eval = i/10\n",
    "    for j in range (10):\n",
    "        ml_data = train_test_split(kriterier, kategorier, train_size=treningsandel_eval, random_state=42)\n",
    "\n",
    "        treningskriterier = ml_data[0]\n",
    "        testkriterier = ml_data[1]\n",
    "        treningskategorier = ml_data[2]\n",
    "        testkategorier = ml_data[3]\n",
    "\n",
    "        #print(treningskriterier)\n",
    "\n",
    "        modell = KNeighborsClassifier()                  # Lager modellen\n",
    "        modell.fit(treningskriterier, treningskategorier)       # Trener modellen\n",
    "\n",
    "        forutsigelser = modell.predict(testkriterier)\n",
    "        #print(\"Accuracy:\", round(accuracy_score(testkategorier, forutsigelser), 2))\n",
    "\n",
    "        # Assume y_test and y_pred are the true and predicted labels for the test set\n",
    "        precision = precision_score(testkategorier, forutsigelser, average='macro')\n",
    "        recall = recall_score(testkategorier, forutsigelser, average='macro')\n",
    "        f1 = f1_score(testkategorier, forutsigelser, average='macro')\n",
    "        accuracy_list.append(precision)\n",
    "        \n",
    "    accuracy_avrg = sum(accuracy_list) / len(accuracy_list)\n",
    "    \n",
    "    data = pd.DataFrame({'model':['KNeighborsClassifier'], 'treningsandel': [treningsandel_eval], 'accuracy': [accuracy_avrg]})\n",
    "    model_eval = pd.concat([model_eval, data], ignore_index=True)\n",
    "    \n",
    "    \n",
    "print(f'Precision: {precision:.2f}')\n",
    "print(f'Recall: {recall:.2f}')  \n",
    "print(f'F1-score: {f1:.2f}')"
   ]
  },
  {
   "cell_type": "code",
   "execution_count": 30,
   "metadata": {},
   "outputs": [
    {
     "data": {
      "text/plain": [
       "'# KNeighborsClassifier 2\\n\\npingvindata = pd.read_csv(\"C:\\\\Users\\\\elias\\\\Documents\\\\GitHub_loc\\\\ModelleringII\\\\penguings.txt\", delimiter = \",\")\\n\\nkriterier = pingvindata[[\\'bill_length_mm\\', \\'bill_depth_mm\\']] # features\\nkategorier = pingvindata[\\'species\\']                          # labels\\n\\nfor i in range(1, 10):\\n    accuracy_list = []\\n    treningsandel_eval = i/10\\n    for j in range (10):\\n        ml_data = train_test_split(kriterier, kategorier, train_size=treningsandel_eval, random_state=42)\\n\\n        treningskriterier = ml_data[0]\\n        testkriterier = ml_data[1]\\n        treningskategorier = ml_data[2]\\n        testkategorier = ml_data[3]\\n\\n        #print(treningskriterier)\\n\\n        modell = KNeighborsClassifier()                  # Lager modellen\\n        modell.fit(treningskriterier, treningskategorier)       # Trener modellen\\n\\n        forutsigelser = modell.predict(testkriterier)\\n        #print(\"Accuracy:\", round(accuracy_score(testkategorier, forutsigelser), 2))        \\n\\n        # Assume y_test and y_pred are the true and predicted labels for the test set\\n        precision = precision_score(testkategorier, forutsigelser, average=\\'macro\\')\\n        recall = recall_score(testkategorier, forutsigelser, average=\\'macro\\')\\n        f1 = f1_score(testkategorier, forutsigelser, average=\\'macro\\')\\n        accuracy_list.append(precision)\\n    accuracy_avrg = sum(accuracy_list) / len(accuracy_list)\\n    data = pd.DataFrame({\\'model\\':[\\'KNeighborsClassifier\\'], \\'treningsandel\\': [treningsandel_eval], \\'accuracy\\': [accuracy_avrg]})\\n    model_eval = pd.concat([model_eval, data], ignore_index=True)\\n    \\n    \\nprint(f\\'Precision: {precision:.2f}\\')\\nprint(f\\'Recall: {recall:.2f}\\')  \\nprint(f\\'F1-score: {f1:.2f}\\')'"
      ]
     },
     "execution_count": 30,
     "metadata": {},
     "output_type": "execute_result"
    }
   ],
   "source": [
    "'''# KNeighborsClassifier 2\n",
    "\n",
    "pingvindata = pd.read_csv(\"C:\\\\Users\\\\elias\\\\Documents\\\\GitHub_loc\\\\ModelleringII\\\\penguings.txt\", delimiter = \",\")\n",
    "\n",
    "kriterier = pingvindata[['bill_length_mm', 'bill_depth_mm']] # features\n",
    "kategorier = pingvindata['species']                          # labels\n",
    "\n",
    "for i in range(1, 10):\n",
    "    accuracy_list = []\n",
    "    treningsandel_eval = i/10\n",
    "    for j in range (10):\n",
    "        ml_data = train_test_split(kriterier, kategorier, train_size=treningsandel_eval, random_state=42)\n",
    "\n",
    "        treningskriterier = ml_data[0]\n",
    "        testkriterier = ml_data[1]\n",
    "        treningskategorier = ml_data[2]\n",
    "        testkategorier = ml_data[3]\n",
    "\n",
    "        #print(treningskriterier)\n",
    "\n",
    "        modell = KNeighborsClassifier()                  # Lager modellen\n",
    "        modell.fit(treningskriterier, treningskategorier)       # Trener modellen\n",
    "\n",
    "        forutsigelser = modell.predict(testkriterier)\n",
    "        #print(\"Accuracy:\", round(accuracy_score(testkategorier, forutsigelser), 2))        \n",
    "\n",
    "        # Assume y_test and y_pred are the true and predicted labels for the test set\n",
    "        precision = precision_score(testkategorier, forutsigelser, average='macro')\n",
    "        recall = recall_score(testkategorier, forutsigelser, average='macro')\n",
    "        f1 = f1_score(testkategorier, forutsigelser, average='macro')\n",
    "        accuracy_list.append(precision)\n",
    "    accuracy_avrg = sum(accuracy_list) / len(accuracy_list)\n",
    "    data = pd.DataFrame({'model':['KNeighborsClassifier'], 'treningsandel': [treningsandel_eval], 'accuracy': [accuracy_avrg]})\n",
    "    model_eval = pd.concat([model_eval, data], ignore_index=True)\n",
    "    \n",
    "    \n",
    "print(f'Precision: {precision:.2f}')\n",
    "print(f'Recall: {recall:.2f}')  \n",
    "print(f'F1-score: {f1:.2f}')'''"
   ]
  },
  {
   "cell_type": "code",
   "execution_count": 31,
   "metadata": {},
   "outputs": [
    {
     "name": "stdout",
     "output_type": "stream",
     "text": [
      "Precision: 1.00\n",
      "Recall: 1.00\n",
      "F1-score: 1.00\n"
     ]
    }
   ],
   "source": [
    "# SVC\n",
    "\n",
    "pingvindata = pd.read_csv(\"C:\\\\Users\\\\elias\\\\Documents\\\\GitHub_loc\\\\ModelleringII\\\\penguings.txt\", delimiter = \",\")\n",
    "\n",
    "kriterier = pingvindata[['bill_length_mm', 'bill_depth_mm']] # features\n",
    "kategorier = pingvindata['species']                          # labels\n",
    "\n",
    "for i in range(1, 10):\n",
    "    accuracy_list = []\n",
    "    treningsandel_eval = i/10\n",
    "    for j in range (10):\n",
    "        ml_data = train_test_split(kriterier, kategorier, train_size=treningsandel_eval, random_state=42)\n",
    "\n",
    "        treningskriterier = ml_data[0]\n",
    "        testkriterier = ml_data[1]\n",
    "        treningskategorier = ml_data[2]\n",
    "        testkategorier = ml_data[3]\n",
    "\n",
    "        #print(treningskriterier)\n",
    "\n",
    "        modell = KNeighborsClassifier()                  # Lager modellen\n",
    "        modell.fit(treningskriterier, treningskategorier)       # Trener modellen\n",
    "\n",
    "        forutsigelser = modell.predict(testkriterier)\n",
    "        #print(\"Accuracy:\", round(accuracy_score(testkategorier, forutsigelser), 2))\n",
    "\n",
    "        \n",
    "\n",
    "        # Assume y_test and y_pred are the true and predicted labels for the test set\n",
    "        precision = precision_score(testkategorier, forutsigelser, average='macro')\n",
    "        recall = recall_score(testkategorier, forutsigelser, average='macro')\n",
    "        f1 = f1_score(testkategorier, forutsigelser, average='macro')\n",
    "        accuracy_list.append(precision)\n",
    "    accuracy_avrg = sum(accuracy_list) / len(accuracy_list)\n",
    "    data = pd.DataFrame({'model':['SVC'], 'treningsandel': [treningsandel_eval], 'accuracy': [accuracy_avrg]})\n",
    "    model_eval = pd.concat([model_eval, data], ignore_index=True)\n",
    "    \n",
    "\n",
    "print(f'Precision: {precision:.2f}')\n",
    "print(f'Recall: {recall:.2f}')  \n",
    "print(f'F1-score: {f1:.2f}')"
   ]
  },
  {
   "cell_type": "code",
   "execution_count": null,
   "metadata": {},
   "outputs": [
    {
     "name": "stdout",
     "output_type": "stream",
     "text": [
      "Accuracy: 0.68\n",
      "Accuracy: 0.17\n",
      "Accuracy: 0.61\n",
      "Accuracy: 0.65\n",
      "WARNING:tensorflow:5 out of the last 13 calls to <function Model.make_test_function.<locals>.test_function at 0x000001AFF9CB0C20> triggered tf.function retracing. Tracing is expensive and the excessive number of tracings could be due to (1) creating @tf.function repeatedly in a loop, (2) passing tensors with different shapes, (3) passing Python objects instead of tensors. For (1), please define your @tf.function outside of the loop. For (2), @tf.function has reduce_retracing=True option that can avoid unnecessary retracing. For (3), please refer to https://www.tensorflow.org/guide/function#controlling_retracing and https://www.tensorflow.org/api_docs/python/tf/function for  more details.\n",
      "Accuracy: 0.62\n",
      "WARNING:tensorflow:5 out of the last 13 calls to <function Model.make_test_function.<locals>.test_function at 0x000001AFF9CB0400> triggered tf.function retracing. Tracing is expensive and the excessive number of tracings could be due to (1) creating @tf.function repeatedly in a loop, (2) passing tensors with different shapes, (3) passing Python objects instead of tensors. For (1), please define your @tf.function outside of the loop. For (2), @tf.function has reduce_retracing=True option that can avoid unnecessary retracing. For (3), please refer to https://www.tensorflow.org/guide/function#controlling_retracing and https://www.tensorflow.org/api_docs/python/tf/function for  more details.\n",
      "Accuracy: 0.64\n",
      "Accuracy: 0.17\n",
      "Accuracy: 0.17\n",
      "Accuracy: 0.17\n",
      "Accuracy: 0.68\n",
      "Accuracy: 0.17\n",
      "Accuracy: 0.65\n",
      "Accuracy: 0.51\n",
      "Accuracy: 0.17\n",
      "Accuracy: 0.67\n",
      "Accuracy: 0.67\n",
      "Accuracy: 0.17\n",
      "Accuracy: 0.68\n",
      "Accuracy: 0.65\n",
      "Accuracy: 0.17\n",
      "Average accuracy: 0.455\n"
     ]
    }
   ],
   "source": [
    "# Nevral Nett\n",
    "\n",
    "\n",
    "pingvindata = pd.read_csv(\"C:\\\\Users\\\\elias\\\\Documents\\\\GitHub_loc\\\\ModelleringII\\\\penguings.txt\", delimiter = \",\")\n",
    "\n",
    "pingvindata['species'] = pingvindata['species'].map(map_string_to_number)\n",
    "pingvindata['sex'] = pingvindata['sex'].map(map_string_to_number)\n",
    "\n",
    "accuracy_list=[]\n",
    "\n",
    "\n",
    "\n",
    "kriterier = pingvindata[['bill_length_mm', 'bill_depth_mm']] # features\n",
    "kategorier = pingvindata['species']\n",
    "for i in range(20):  \n",
    "    model = tf.keras.Sequential()\n",
    "    model.add(layers.Dense(10, activation=\"sigmoid\", input_shape=(2,)))\n",
    "    model.add(layers.Dense(1, activation=\"linear\"))\n",
    "    ml_data = train_test_split(kriterier, kategorier, train_size=treningsandel, random_state=42)\n",
    "    x = ml_data[0]\n",
    "    X_test = ml_data[1]\n",
    "    y = ml_data[2]\n",
    "    y_test = ml_data[3]\n",
    "\n",
    "    def loss(y, y_pred):\n",
    "        return float(tf.math.reduce_mean((y-y_pred)**2))\n",
    "\n",
    "    model.compile(optimizer=tf.keras.optimizers.Adam(0.1),\n",
    "                loss=loss,\n",
    "                metrics=['accuracy'])\n",
    "\n",
    "    model.fit(x, y, epochs=150, verbose=0)\n",
    "\n",
    "    loss, accuracy = model.evaluate(X_test, y_test, verbose=0)\n",
    "    \n",
    "    print('Accuracy:', round(accuracy, 2))\n",
    "    accuracy_list.append(accuracy)\n",
    "accuracy_avrg = sum(accuracy_list) / len(accuracy_list)\n",
    "data = pd.DataFrame({'model':['NN'], 'treningsandel': [treningsandel_eval], 'accuracy': [accuracy_avrg]})\n",
    "model_eval = pd.concat([model_eval, data], ignore_index=True)\n",
    "\n",
    "print('Average accuracy:', round(sum(accuracy_list)/len(accuracy_list),3))"
   ]
  },
  {
   "cell_type": "code",
   "execution_count": 32,
   "metadata": {},
   "outputs": [
    {
     "name": "stdout",
     "output_type": "stream",
     "text": [
      "                     model  treningsandel  accuracy\n",
      "0                     tree            0.1  0.926629\n",
      "1                     tree            0.2  0.911662\n",
      "2                     tree            0.3  0.907224\n",
      "3                     tree            0.4  0.912388\n",
      "4                     tree            0.5  0.946207\n",
      "5                     tree            0.6  0.937011\n",
      "6                     tree            0.7  0.922101\n",
      "7                     tree            0.8  0.944762\n",
      "8                     tree            0.9  0.933333\n",
      "9   RandomForestClassifier            0.1  0.945387\n",
      "10  RandomForestClassifier            0.2  0.935354\n",
      "11  RandomForestClassifier            0.3  0.939041\n",
      "12  RandomForestClassifier            0.4  0.930682\n",
      "13  RandomForestClassifier            0.5  0.946951\n",
      "14  RandomForestClassifier            0.6  0.947455\n",
      "15  RandomForestClassifier            0.7  0.937022\n",
      "16  RandomForestClassifier            0.8  0.944762\n",
      "17  RandomForestClassifier            0.9  0.995833\n",
      "18      LogisticRegression            0.1  0.944220\n",
      "19      LogisticRegression            0.2  0.936442\n",
      "20      LogisticRegression            0.3  0.947352\n",
      "21      LogisticRegression            0.4  0.938230\n",
      "22      LogisticRegression            0.5  0.941718\n",
      "23      LogisticRegression            0.6  0.966531\n",
      "24      LogisticRegression            0.7  0.966667\n",
      "25      LogisticRegression            0.8  0.974359\n",
      "26      LogisticRegression            0.9  1.000000\n",
      "27    KNeighborsClassifier            0.1  0.937066\n",
      "28    KNeighborsClassifier            0.2  0.932949\n",
      "29    KNeighborsClassifier            0.3  0.947340\n",
      "30    KNeighborsClassifier            0.4  0.945553\n",
      "31    KNeighborsClassifier            0.5  0.941718\n",
      "32    KNeighborsClassifier            0.6  0.943815\n",
      "33    KNeighborsClassifier            0.7  0.939394\n",
      "34    KNeighborsClassifier            0.8  0.952381\n",
      "35    KNeighborsClassifier            0.9  1.000000\n",
      "36                     SVC            0.1  0.937066\n",
      "37                     SVC            0.2  0.932949\n",
      "38                     SVC            0.3  0.947340\n",
      "39                     SVC            0.4  0.945553\n",
      "40                     SVC            0.5  0.941718\n",
      "41                     SVC            0.6  0.943815\n",
      "42                     SVC            0.7  0.939394\n",
      "43                     SVC            0.8  0.952381\n",
      "44                     SVC            0.9  1.000000\n"
     ]
    }
   ],
   "source": [
    "model_eval.to_csv('model_eval.csv', index=False)\n",
    "print(model_eval)"
   ]
  },
  {
   "cell_type": "code",
   "execution_count": 33,
   "metadata": {},
   "outputs": [
    {
     "data": {
      "image/png": "[encoded data removed]",
      "text/plain": [
       "<Figure size 640x480 with 1 Axes>"
      ]
     },
     "metadata": {},
     "output_type": "display_data"
    }
   ],
   "source": [
    "# Modell evaluering\n",
    "model_eval_plot = model_eval.copy()\n",
    "#model_eval_plot['model'] = model_eval_plot['model'].map(map_string_to_number)\n",
    "#model_eval_plot.boxplot(column='accuracy', by='treningsandel')\n",
    "# Create a point plot\n",
    "sns.pointplot(data=model_eval_plot, x='treningsandel', y='accuracy', hue='model')\n",
    "\n",
    "# Show the plot\n",
    "plt.show()"
   ]
  },
  {
   "cell_type": "code",
   "execution_count": 14,
   "metadata": {},
   "outputs": [
    {
     "name": "stdout",
     "output_type": "stream",
     "text": [
      "                     model  treningsandel  accuracy\n",
      "0                     tree            0.1  0.928961\n",
      "1                     tree            0.2  0.908130\n",
      "2                     tree            0.3  0.900549\n",
      "3                     tree            0.4  0.916635\n",
      "4                     tree            0.5  0.947996\n",
      "5                     tree            0.6  0.937931\n",
      "6                     tree            0.7  0.925362\n",
      "7                     tree            0.8  0.946667\n",
      "8                     tree            0.9  0.928571\n",
      "9   RandomForestClassifier            0.1  0.943349\n",
      "10  RandomForestClassifier            0.2  0.942661\n",
      "11  RandomForestClassifier            0.3  0.942045\n",
      "12  RandomForestClassifier            0.4  0.931419\n",
      "13  RandomForestClassifier            0.5  0.949135\n",
      "14  RandomForestClassifier            0.6  0.946470\n",
      "15  RandomForestClassifier            0.7  0.935837\n",
      "16  RandomForestClassifier            0.8  0.944762\n",
      "17  RandomForestClassifier            0.9  0.991667\n",
      "18      LogisticRegression            0.1  0.944220\n",
      "19      LogisticRegression            0.2  0.936442\n",
      "20      LogisticRegression            0.3  0.947352\n",
      "21      LogisticRegression            0.4  0.938230\n",
      "22      LogisticRegression            0.5  0.941718\n",
      "23      LogisticRegression            0.6  0.966531\n",
      "24      LogisticRegression            0.7  0.966667\n",
      "25      LogisticRegression            0.8  0.974359\n",
      "26      LogisticRegression            0.9  1.000000\n",
      "27    KNeighborsClassifier            0.1  0.937066\n",
      "28    KNeighborsClassifier            0.2  0.932949\n",
      "29    KNeighborsClassifier            0.3  0.947340\n",
      "30    KNeighborsClassifier            0.4  0.945553\n",
      "31    KNeighborsClassifier            0.5  0.941718\n",
      "32    KNeighborsClassifier            0.6  0.943815\n",
      "33    KNeighborsClassifier            0.7  0.939394\n",
      "34    KNeighborsClassifier            0.8  0.952381\n",
      "35    KNeighborsClassifier            0.9  1.000000\n",
      "36                     SVC            0.1  0.937066\n",
      "37                     SVC            0.2  0.932949\n",
      "38                     SVC            0.3  0.947340\n",
      "39                     SVC            0.4  0.945553\n",
      "40                     SVC            0.5  0.941718\n",
      "41                     SVC            0.6  0.943815\n",
      "42                     SVC            0.7  0.939394\n",
      "43                     SVC            0.8  0.952381\n",
      "44                     SVC            0.9  1.000000\n",
      "45                      NN            0.9  0.486232\n"
     ]
    }
   ],
   "source": [
    "print(model_eval)"
   ]
  },
  {
   "attachments": {},
   "cell_type": "markdown",
   "metadata": {},
   "source": [
    "## Kunstig inteligens i dag\n",
    "Kunstig intelligens (KI) har blitt stadig mer utbredt i dagens samfunn og har mange bruksområder, inkludert chat-modeller. Chat-modeller er en type KI som brukes til å simulere en samtale mellom mennesker og maskiner. Disse modellene kan brukes til å automatisere kundeservice og gi raskere svar på spørsmål fra kunder.\n",
    "\n",
    "Det er imidlertid også bekymringer knyttet til bruken av KI i chat-modeller og andre applikasjoner. For eksempel kan KI-systemer være sårbare for angrep og manipulasjon, og det kan være vanskelig å avgjøre om en samtale skjer mellom et menneske eller en maskin. Det er også bekymringer knyttet til personvern og sikkerhet når det gjelder innsamling og bruk av data i KI-systemer.\n",
    "\n",
    "Når det gjelder ChatGPT, er dette en modell som ble utviklet av OpenAI for å simulere samtaler mellom mennesker og maskiner. Microsoft integrerte denne modellen i Bing for å gi brukerne bedre søkemotorer og anbefalingssystemer. Selv om ChatGPT har gjort det mulig for den gjennomsnittlige forbrukeren å bruke AI i det daglige livet sitt, har det også vært noen utfordringer med modellen. For eksempel var GPT-3-modellen som ChatGPT var basert på, trent på eldre data og var optimalisert for samtaleflyt og ikke nøyaktighet. Dette førte til at modellen slet med matematikk og fant opp fakta. Microsoft integrerte senere OpenAI sin GPT-3-modell i Bing for å gi brukerne bedre søkemotorer og anbefalingssystemer.\n",
    "\n",
    "\n",
    "En bekymring som har kommet frem etter at chat-modeller ble populære er at forbrukere kan ha urealistiske forventninger til hva KI kan gjøre. For eksempel kan noen forbrukere tro at KI-systemer kan løse alle problemer eller gi nøyaktige svar på alle spørsmål. Dette kan føre til at forbrukere tar beslutninger basert på feilaktig informasjon eller at de blir skuffet når KI-systemer ikke fungerer som forventet. Chat-modeller er er ofte veldig selvsikre selv når de har feil, noe som kan føre til at forburkere bil villedet."
   ]
  },
  {
   "attachments": {},
   "cell_type": "markdown",
   "metadata": {},
   "source": [
    "## Fotnoter\n",
    "<sup id=“fn1”>[1]</sup> The Guardian\n",
    "\n",
    "<span id=\"fn2\"> footnote 1</span>"
   ]
  },
  {
   "attachments": {},
   "cell_type": "markdown",
   "metadata": {},
   "source": []
  }
 ],
 "metadata": {
  "kernelspec": {
   "display_name": "Python 3",
   "language": "python",
   "name": "python3"
  },
  "language_info": {
   "codemirror_mode": {
    "name": "ipython",
    "version": 3
   },
   "file_extension": ".py",
   "mimetype": "text/x-python",
   "name": "python",
   "nbconvert_exporter": "python",
   "pygments_lexer": "ipython3",
   "version": "3.11.3"
  },
  "orig_nbformat": 4
 },
 "nbformat": 4,
 "nbformat_minor": 2
}
